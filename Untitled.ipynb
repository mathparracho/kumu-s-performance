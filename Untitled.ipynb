{
 "cells": [
  {
   "cell_type": "code",
   "execution_count": 158,
   "metadata": {},
   "outputs": [],
   "source": [
    "import pandas as pd\n",
    "from matplotlib import pyplot as plt\n",
    "import numpy as np\n",
    "from random import sample"
   ]
  },
  {
   "cell_type": "code",
   "execution_count": 159,
   "metadata": {},
   "outputs": [
    {
     "data": {
      "text/html": [
       "<div>\n",
       "<style scoped>\n",
       "    .dataframe tbody tr th:only-of-type {\n",
       "        vertical-align: middle;\n",
       "    }\n",
       "\n",
       "    .dataframe tbody tr th {\n",
       "        vertical-align: top;\n",
       "    }\n",
       "\n",
       "    .dataframe thead th {\n",
       "        text-align: right;\n",
       "    }\n",
       "</style>\n",
       "<table border=\"1\" class=\"dataframe\">\n",
       "  <thead>\n",
       "    <tr style=\"text-align: right;\">\n",
       "      <th></th>\n",
       "      <th>First Name</th>\n",
       "      <th>Last Name</th>\n",
       "      <th>Gender</th>\n",
       "      <th>Age</th>\n",
       "      <th>Email</th>\n",
       "      <th>Phone</th>\n",
       "      <th>Education</th>\n",
       "      <th>Occupation</th>\n",
       "      <th>Experience (Years)</th>\n",
       "      <th>Salary</th>\n",
       "      <th>Marital Status</th>\n",
       "    </tr>\n",
       "  </thead>\n",
       "  <tbody>\n",
       "    <tr>\n",
       "      <td>0</td>\n",
       "      <td>Adelaide</td>\n",
       "      <td>Hall</td>\n",
       "      <td>Female</td>\n",
       "      <td>30</td>\n",
       "      <td>a.hall@randatmail.com</td>\n",
       "      <td>430-6243-60</td>\n",
       "      <td>Bachelor</td>\n",
       "      <td>Social Worker</td>\n",
       "      <td>9</td>\n",
       "      <td>969</td>\n",
       "      <td>Single</td>\n",
       "    </tr>\n",
       "    <tr>\n",
       "      <td>1</td>\n",
       "      <td>Sam</td>\n",
       "      <td>Parker</td>\n",
       "      <td>Male</td>\n",
       "      <td>24</td>\n",
       "      <td>s.parker@randatmail.com</td>\n",
       "      <td>034-7303-30</td>\n",
       "      <td>Bachelor</td>\n",
       "      <td>Geologist</td>\n",
       "      <td>4</td>\n",
       "      <td>9364</td>\n",
       "      <td>Married</td>\n",
       "    </tr>\n",
       "    <tr>\n",
       "      <td>2</td>\n",
       "      <td>Haris</td>\n",
       "      <td>Ellis</td>\n",
       "      <td>Male</td>\n",
       "      <td>29</td>\n",
       "      <td>h.ellis@randatmail.com</td>\n",
       "      <td>400-0278-05</td>\n",
       "      <td>Upper secondary</td>\n",
       "      <td>Accountant</td>\n",
       "      <td>14</td>\n",
       "      <td>2119</td>\n",
       "      <td>Married</td>\n",
       "    </tr>\n",
       "    <tr>\n",
       "      <td>3</td>\n",
       "      <td>Sawyer</td>\n",
       "      <td>Myers</td>\n",
       "      <td>Male</td>\n",
       "      <td>28</td>\n",
       "      <td>s.myers@randatmail.com</td>\n",
       "      <td>008-9970-47</td>\n",
       "      <td>Bachelor</td>\n",
       "      <td>Engineer</td>\n",
       "      <td>4</td>\n",
       "      <td>970</td>\n",
       "      <td>Single</td>\n",
       "    </tr>\n",
       "    <tr>\n",
       "      <td>4</td>\n",
       "      <td>Florrie</td>\n",
       "      <td>Andrews</td>\n",
       "      <td>Female</td>\n",
       "      <td>18</td>\n",
       "      <td>f.andrews@randatmail.com</td>\n",
       "      <td>642-1556-14</td>\n",
       "      <td>Bachelor</td>\n",
       "      <td>Firefighter</td>\n",
       "      <td>0</td>\n",
       "      <td>6546</td>\n",
       "      <td>Married</td>\n",
       "    </tr>\n",
       "  </tbody>\n",
       "</table>\n",
       "</div>"
      ],
      "text/plain": [
       "  First Name Last Name  Gender  Age                     Email        Phone  \\\n",
       "0   Adelaide      Hall  Female   30     a.hall@randatmail.com  430-6243-60   \n",
       "1        Sam    Parker    Male   24   s.parker@randatmail.com  034-7303-30   \n",
       "2      Haris     Ellis    Male   29    h.ellis@randatmail.com  400-0278-05   \n",
       "3     Sawyer     Myers    Male   28    s.myers@randatmail.com  008-9970-47   \n",
       "4    Florrie   Andrews  Female   18  f.andrews@randatmail.com  642-1556-14   \n",
       "\n",
       "         Education     Occupation  Experience (Years)  Salary Marital Status  \n",
       "0         Bachelor  Social Worker                   9     969         Single  \n",
       "1         Bachelor      Geologist                   4    9364        Married  \n",
       "2  Upper secondary     Accountant                  14    2119        Married  \n",
       "3         Bachelor       Engineer                   4     970         Single  \n",
       "4         Bachelor    Firefighter                   0    6546        Married  "
      ]
     },
     "execution_count": 159,
     "metadata": {},
     "output_type": "execute_result"
    }
   ],
   "source": [
    "data = pd.read_excel(\"rand_data_50.xlsx\")\n",
    "data.head()"
   ]
  },
  {
   "cell_type": "code",
   "execution_count": 160,
   "metadata": {},
   "outputs": [],
   "source": [
    "#adjusting to kumu's interpreter\n",
    "data.rename(columns={\"First Name\": \"Label\", \"Occupation\": \"Type\"},inplace = True)"
   ]
  },
  {
   "cell_type": "code",
   "execution_count": 161,
   "metadata": {},
   "outputs": [
    {
     "name": "stdout",
     "output_type": "stream",
     "text": [
      "['Adelaide' 'Hall' 'Female' 30 'a.hall@randatmail.com' '430-6243-60'\n",
      " 'Bachelor' 'Social Worker' 9 969 'Single']\n"
     ]
    }
   ],
   "source": [
    "#just to visualize\n",
    "a =  data.value\n",
    "print(a[0])"
   ]
  },
  {
   "cell_type": "code",
   "execution_count": 162,
   "metadata": {},
   "outputs": [
    {
     "name": "stdout",
     "output_type": "stream",
     "text": [
      "['Adelaide', 'Sam', 'Haris', 'Sawyer', 'Florrie', 'Brooke', 'Adrian', 'Daisy', 'Valeria', 'Oliver', 'Catherine', 'George', 'Naomi', 'Rebecca', 'David', 'April', 'Thomas', 'Briony', 'Carl', 'Spike', 'Fiona', 'John', 'Justin', 'Maximilian', 'Tony', 'Amelia', 'Sarah', 'Marcus', 'Max', 'Alissa', 'Naomi', 'Ryan', 'Ted', 'Dainton', 'Kelvin', 'Ada', 'Patrick', 'Adison', 'Sydney', 'Sarah', 'Abraham', 'Eleanor', 'Natalie', 'Sofia', 'Frederick', 'Amelia', 'Carlos', 'Ryan', 'Bruce', 'John']\n"
     ]
    }
   ],
   "source": [
    "#creating a list of names\n",
    "names = data['Label'].tolist()\n",
    "print(mylist)"
   ]
  },
  {
   "cell_type": "code",
   "execution_count": 163,
   "metadata": {},
   "outputs": [
    {
     "data": {
      "text/html": [
       "<div>\n",
       "<style scoped>\n",
       "    .dataframe tbody tr th:only-of-type {\n",
       "        vertical-align: middle;\n",
       "    }\n",
       "\n",
       "    .dataframe tbody tr th {\n",
       "        vertical-align: top;\n",
       "    }\n",
       "\n",
       "    .dataframe thead th {\n",
       "        text-align: right;\n",
       "    }\n",
       "</style>\n",
       "<table border=\"1\" class=\"dataframe\">\n",
       "  <thead>\n",
       "    <tr style=\"text-align: right;\">\n",
       "      <th></th>\n",
       "      <th>From</th>\n",
       "      <th>To</th>\n",
       "      <th>Type</th>\n",
       "    </tr>\n",
       "  </thead>\n",
       "  <tbody>\n",
       "    <tr>\n",
       "      <td>0</td>\n",
       "      <td>Adelaide</td>\n",
       "      <td>John</td>\n",
       "      <td>Pesonal</td>\n",
       "    </tr>\n",
       "    <tr>\n",
       "      <td>1</td>\n",
       "      <td>Sam</td>\n",
       "      <td>Eleanor</td>\n",
       "      <td>Pesonal</td>\n",
       "    </tr>\n",
       "    <tr>\n",
       "      <td>2</td>\n",
       "      <td>Haris</td>\n",
       "      <td>Justin</td>\n",
       "      <td>Pesonal</td>\n",
       "    </tr>\n",
       "    <tr>\n",
       "      <td>3</td>\n",
       "      <td>Sawyer</td>\n",
       "      <td>Sarah</td>\n",
       "      <td>Pesonal</td>\n",
       "    </tr>\n",
       "    <tr>\n",
       "      <td>4</td>\n",
       "      <td>Florrie</td>\n",
       "      <td>David</td>\n",
       "      <td>Pesonal</td>\n",
       "    </tr>\n",
       "  </tbody>\n",
       "</table>\n",
       "</div>"
      ],
      "text/plain": [
       "       From       To     Type\n",
       "0  Adelaide     John  Pesonal\n",
       "1       Sam  Eleanor  Pesonal\n",
       "2     Haris   Justin  Pesonal\n",
       "3    Sawyer    Sarah  Pesonal\n",
       "4   Florrie    David  Pesonal"
      ]
     },
     "execution_count": 163,
     "metadata": {},
     "output_type": "execute_result"
    }
   ],
   "source": [
    "#generating a random a list of names and the \"type\" of connection\n",
    "randNames = sample(names, len(names))\n",
    "mode = [\"Pesonal\" for i in range(len(names))]\n",
    "\n",
    "#generating the dataFrame\n",
    "connections_data = pd.DataFrame(\n",
    "    {'From': names,'To': randNames,'Type': mode})\n",
    "connections_data.head()\n"
   ]
  },
  {
   "cell_type": "code",
   "execution_count": 164,
   "metadata": {},
   "outputs": [],
   "source": [
    "#writing a new the excel file\n",
    "path = r\"updated_50.xlsx\"\n",
    "writer = pd.ExcelWriter(path, engine = 'xlsxwriter')\n",
    "\n",
    "#generating the two necessary sheets\n",
    "data.to_excel(writer, sheet_name = 'Elements',index=False)\n",
    "connections_data.to_excel(writer, sheet_name = 'Connections',index=False)\n",
    "\n",
    "writer.save()\n",
    "writer.close()"
   ]
  },
  {
   "cell_type": "code",
   "execution_count": null,
   "metadata": {},
   "outputs": [],
   "source": []
  }
 ],
 "metadata": {
  "kernelspec": {
   "display_name": "Python 3",
   "language": "python",
   "name": "python3"
  },
  "language_info": {
   "codemirror_mode": {
    "name": "ipython",
    "version": 3
   },
   "file_extension": ".py",
   "mimetype": "text/x-python",
   "name": "python",
   "nbconvert_exporter": "python",
   "pygments_lexer": "ipython3",
   "version": "3.7.4"
  }
 },
 "nbformat": 4,
 "nbformat_minor": 2
}
